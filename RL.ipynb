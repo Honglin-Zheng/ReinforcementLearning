{
 "cells": [
  {
   "cell_type": "code",
   "execution_count": 1,
   "metadata": {},
   "outputs": [],
   "source": [
    "import matplotlib.pyplot as plt\n",
    "import numpy as np\n",
    "import seaborn as sns\n",
    "from MDP_Env import MDP\n",
    "\n",
    "%matplotlib inline\n",
    "%load_ext autoreload\n",
    "%autoreload 2"
   ]
  },
  {
   "cell_type": "markdown",
   "metadata": {},
   "source": [
    "## Question 1: heatmap"
   ]
  },
  {
   "cell_type": "code",
   "execution_count": 2,
   "metadata": {},
   "outputs": [],
   "source": [
    "rf1 = np.array([[0.0 for i in range(10)] for j in range(10)])\n",
    "rf1[9][9] = 1.0"
   ]
  },
  {
   "cell_type": "code",
   "execution_count": 3,
   "metadata": {},
   "outputs": [
    {
     "data": {
      "text/plain": [
       "array([[ 0.,  0.,  0.,  0.,  0.,  0.,  0.,  0.,  0.,  0.],\n",
       "       [ 0.,  0.,  0.,  0.,  0.,  0.,  0.,  0.,  0.,  0.],\n",
       "       [ 0.,  0.,  0.,  0.,  0.,  0.,  0.,  0.,  0.,  0.],\n",
       "       [ 0.,  0.,  0.,  0.,  0.,  0.,  0.,  0.,  0.,  0.],\n",
       "       [ 0.,  0.,  0.,  0.,  0.,  0.,  0.,  0.,  0.,  0.],\n",
       "       [ 0.,  0.,  0.,  0.,  0.,  0.,  0.,  0.,  0.,  0.],\n",
       "       [ 0.,  0.,  0.,  0.,  0.,  0.,  0.,  0.,  0.,  0.],\n",
       "       [ 0.,  0.,  0.,  0.,  0.,  0.,  0.,  0.,  0.,  0.],\n",
       "       [ 0.,  0.,  0.,  0.,  0.,  0.,  0.,  0.,  0.,  0.],\n",
       "       [ 0.,  0.,  0.,  0.,  0.,  0.,  0.,  0.,  0.,  1.]])"
      ]
     },
     "execution_count": 3,
     "metadata": {},
     "output_type": "execute_result"
    }
   ],
   "source": [
    "rf1"
   ]
  },
  {
   "cell_type": "code",
   "execution_count": 4,
   "metadata": {},
   "outputs": [],
   "source": [
    "rf2 = np.array([[ 0.,  0.,  0.,  0.,  0.,  0.,  0.,  0.,  0.,  0.],\n",
    "               [ 0.,  0.,  0.,  0.,  -100.0,  -100.0,  -100.0,  0.,  0.,  0.],\n",
    "               [ 0.,  0.,  0.,  0.,  -100.0,  0.,  -100.0,  0.,  0.,  0.],\n",
    "               [ 0.,  0.,  0.,  0.,  -100.0,  0.,  -100.0,  -100.0,  -100.0,  0.],\n",
    "               [ 0.,  0.,  0.,  0.,  -100.0,  0.,  0.,  0.,  -100.0,  0.],\n",
    "               [ 0.,  0.,  0.,  0.,  -100.0,  0.,  0.,  0.,  -100.0,  0.],\n",
    "               [ 0.,  0.,  0.,  0.,  -100.0,  0.,  0.,  0.,  -100.0,  0.],\n",
    "               [ 0.,  0.,  0.,  0.,  0.,  0.,  -100.0,  -100.0,  -100.0,  0.],\n",
    "               [ 0.,  0.,  0.,  0.,  0.,  0.,  -100.0,  0.,  0.,  0.],\n",
    "               [ 0.,  0.,  0.,  0.,  0.,  0.,  0.,  0.,  0.,  1.]])"
   ]
  },
  {
   "cell_type": "code",
   "execution_count": 5,
   "metadata": {},
   "outputs": [],
   "source": [
    "rf2[9][9] = 10.0"
   ]
  },
  {
   "cell_type": "code",
   "execution_count": 6,
   "metadata": {},
   "outputs": [
    {
     "data": {
      "text/plain": [
       "array([[   0.,    0.,    0.,    0.,    0.,    0.,    0.,    0.,    0.,\n",
       "           0.],\n",
       "       [   0.,    0.,    0.,    0., -100., -100., -100.,    0.,    0.,\n",
       "           0.],\n",
       "       [   0.,    0.,    0.,    0., -100.,    0., -100.,    0.,    0.,\n",
       "           0.],\n",
       "       [   0.,    0.,    0.,    0., -100.,    0., -100., -100., -100.,\n",
       "           0.],\n",
       "       [   0.,    0.,    0.,    0., -100.,    0.,    0.,    0., -100.,\n",
       "           0.],\n",
       "       [   0.,    0.,    0.,    0., -100.,    0.,    0.,    0., -100.,\n",
       "           0.],\n",
       "       [   0.,    0.,    0.,    0., -100.,    0.,    0.,    0., -100.,\n",
       "           0.],\n",
       "       [   0.,    0.,    0.,    0.,    0.,    0., -100., -100., -100.,\n",
       "           0.],\n",
       "       [   0.,    0.,    0.,    0.,    0.,    0., -100.,    0.,    0.,\n",
       "           0.],\n",
       "       [   0.,    0.,    0.,    0.,    0.,    0.,    0.,    0.,    0.,\n",
       "          10.]])"
      ]
     },
     "execution_count": 6,
     "metadata": {},
     "output_type": "execute_result"
    }
   ],
   "source": [
    "rf2"
   ]
  },
  {
   "cell_type": "code",
   "execution_count": 7,
   "metadata": {},
   "outputs": [
    {
     "data": {
      "image/png": "[encoded data removed]",
      "text/plain": [
       "<matplotlib.figure.Figure at 0x10c4fe358>"
      ]
     },
     "metadata": {},
     "output_type": "display_data"
    }
   ],
   "source": [
    "ax = sns.heatmap(rf1, linewidth=0.5)\n",
    "plt.show()"
   ]
  },
  {
   "cell_type": "code",
   "execution_count": 8,
   "metadata": {},
   "outputs": [
    {
     "data": {
      "image/png": "[encoded data removed]",
      "text/plain": [
       "<matplotlib.figure.Figure at 0x10c59b278>"
      ]
     },
     "metadata": {},
     "output_type": "display_data"
    }
   ],
   "source": [
    "ax = sns.heatmap(rf2, linewidth=0.5)\n",
    "plt.show()"
   ]
  },
  {
   "cell_type": "code",
   "execution_count": 42,
   "metadata": {},
   "outputs": [],
   "source": [
    "mdp1 = MDP(rf=rf1)"
   ]
  },
  {
   "cell_type": "code",
   "execution_count": 43,
   "metadata": {},
   "outputs": [
    {
     "data": {
      "text/plain": [
       "(array([[ 0.04179568,  0.06283791,  0.089742  ,  0.12384898,  0.16708096,\n",
       "          0.22188288,  0.29135376,  0.37942014,  0.49098293,  0.60964773],\n",
       "        [ 0.06283791,  0.08787011,  0.12155728,  0.16451357,  0.21924607,\n",
       "          0.28898976,  0.37787112,  0.49106061,  0.63321853,  0.78735399],\n",
       "        [ 0.089742  ,  0.12155728,  0.16438987,  0.21913198,  0.28890328,\n",
       "          0.37782648,  0.49115592,  0.63549019,  0.81735527,  1.01859718],\n",
       "        [ 0.12384898,  0.16451357,  0.21913198,  0.28889981,  0.37782476,\n",
       "          0.49115916,  0.6356006 ,  0.81960951,  1.05219113,  1.31505855],\n",
       "        [ 0.16708096,  0.21924607,  0.28890328,  0.37782476,  0.49115918,\n",
       "          0.63560325,  0.81969511,  1.05426506,  1.35157155,  1.69507283],\n",
       "        [ 0.22188288,  0.28898976,  0.37782648,  0.49115916,  0.63560325,\n",
       "          0.8196963 ,  1.05432164,  1.35332408,  1.73318006,  2.18223115],\n",
       "        [ 0.29135376,  0.37787112,  0.49115592,  0.6356006 ,  0.81969511,\n",
       "          1.05432164,  1.35335083,  1.73446085,  2.21952677,  2.80680236],\n",
       "        [ 0.37942014,  0.49106061,  0.63549019,  0.81960951,  1.05426506,\n",
       "          1.35332408,  1.73446085,  2.22020148,  2.839257  ,  3.60762627],\n",
       "        [ 0.49098293,  0.63321853,  0.81735527,  1.05219113,  1.35157155,\n",
       "          1.73318006,  2.21952677,  2.839257  ,  3.62881377,  4.63454707],\n",
       "        [ 0.60964773,  0.78735399,  1.01859718,  1.31505855,  1.69507283,\n",
       "          2.18223115,  2.80680236,  3.60762627,  4.63454707,  4.70154001]]),\n",
       " [[[0, 1],\n",
       "   [0, 1],\n",
       "   [0, 1],\n",
       "   [0, 1],\n",
       "   [0, 1],\n",
       "   [0, 1],\n",
       "   [0, 1],\n",
       "   [1, 0],\n",
       "   [1, 0],\n",
       "   [1, 0]],\n",
       "  [[1, 0],\n",
       "   [0, 1],\n",
       "   [0, 1],\n",
       "   [0, 1],\n",
       "   [0, 1],\n",
       "   [0, 1],\n",
       "   [1, 0],\n",
       "   [1, 0],\n",
       "   [1, 0],\n",
       "   [1, 0]],\n",
       "  [[1, 0],\n",
       "   [1, 0],\n",
       "   [0, 1],\n",
       "   [0, 1],\n",
       "   [0, 1],\n",
       "   [1, 0],\n",
       "   [1, 0],\n",
       "   [1, 0],\n",
       "   [1, 0],\n",
       "   [1, 0]],\n",
       "  [[1, 0],\n",
       "   [1, 0],\n",
       "   [1, 0],\n",
       "   [1, 0],\n",
       "   [1, 0],\n",
       "   [1, 0],\n",
       "   [1, 0],\n",
       "   [1, 0],\n",
       "   [1, 0],\n",
       "   [1, 0]],\n",
       "  [[1, 0],\n",
       "   [1, 0],\n",
       "   [1, 0],\n",
       "   [0, 1],\n",
       "   [0, 1],\n",
       "   [1, 0],\n",
       "   [1, 0],\n",
       "   [1, 0],\n",
       "   [1, 0],\n",
       "   [1, 0]],\n",
       "  [[1, 0],\n",
       "   [1, 0],\n",
       "   [0, 1],\n",
       "   [0, 1],\n",
       "   [0, 1],\n",
       "   [0, 1],\n",
       "   [1, 0],\n",
       "   [1, 0],\n",
       "   [1, 0],\n",
       "   [1, 0]],\n",
       "  [[1, 0],\n",
       "   [0, 1],\n",
       "   [0, 1],\n",
       "   [0, 1],\n",
       "   [0, 1],\n",
       "   [0, 1],\n",
       "   [0, 1],\n",
       "   [1, 0],\n",
       "   [1, 0],\n",
       "   [1, 0]],\n",
       "  [[0, 1],\n",
       "   [0, 1],\n",
       "   [0, 1],\n",
       "   [0, 1],\n",
       "   [0, 1],\n",
       "   [0, 1],\n",
       "   [0, 1],\n",
       "   [0, 1],\n",
       "   [1, 0],\n",
       "   [1, 0]],\n",
       "  [[0, 1],\n",
       "   [0, 1],\n",
       "   [0, 1],\n",
       "   [0, 1],\n",
       "   [0, 1],\n",
       "   [0, 1],\n",
       "   [0, 1],\n",
       "   [0, 1],\n",
       "   [0, 1],\n",
       "   [1, 0]],\n",
       "  [[0, 1],\n",
       "   [0, 1],\n",
       "   [0, 1],\n",
       "   [0, 1],\n",
       "   [0, 1],\n",
       "   [0, 1],\n",
       "   [0, 1],\n",
       "   [0, 1],\n",
       "   [0, 1],\n",
       "   [0, 1]]])"
      ]
     },
     "execution_count": 43,
     "metadata": {},
     "output_type": "execute_result"
    }
   ],
   "source": [
    "mdp1.valueIter(0.01)"
   ]
  },
  {
   "cell_type": "code",
   "execution_count": 44,
   "metadata": {},
   "outputs": [
    {
     "data": {
      "image/png": "[encoded data removed]",
      "text/plain": [
       "<matplotlib.figure.Figure at 0x10cb299b0>"
      ]
     },
     "metadata": {},
     "output_type": "display_data"
    }
   ],
   "source": [
    "mdp1.heatMap()"
   ]
  },
  {
   "cell_type": "code",
   "execution_count": 60,
   "metadata": {},
   "outputs": [
    {
     "data": {
      "image/png": "[encoded data removed]",
      "text/plain": [
       "<matplotlib.figure.Figure at 0x10ca7a2b0>"
      ]
     },
     "metadata": {},
     "output_type": "display_data"
    }
   ],
   "source": [
    "mdp1.heatMap(policy=True)"
   ]
  },
  {
   "cell_type": "code",
   "execution_count": 45,
   "metadata": {},
   "outputs": [],
   "source": [
    "mdp2 = MDP(rf=rf2)"
   ]
  },
  {
   "cell_type": "code",
   "execution_count": 46,
   "metadata": {
    "scrolled": true
   },
   "outputs": [
    {
     "data": {
      "text/plain": [
       "(array([[  6.48477467e-01,   7.94106515e-01,   8.25237900e-01,\n",
       "           5.36245558e-01,  -2.37043156e+00,  -4.23381678e+00,\n",
       "          -1.92052971e+00,   1.13110795e+00,   1.59435584e+00,\n",
       "           2.03820726e+00],\n",
       "        [  8.29851948e-01,   1.02123596e+00,   1.06603296e+00,\n",
       "          -1.86790436e+00,  -6.73821942e+00,  -8.67375446e+00,\n",
       "          -6.36979468e+00,  -1.29479626e+00,   1.92834321e+00,\n",
       "           2.61046947e+00],\n",
       "        [  1.06360962e+00,   1.31651254e+00,   1.45007729e+00,\n",
       "          -1.62402502e+00,  -6.74150886e+00,  -1.39111818e+01,\n",
       "          -9.64922518e+00,  -5.51104325e+00,  -1.31012708e-01,\n",
       "           3.35905866e+00],\n",
       "        [  1.36025245e+00,   1.69269877e+00,   1.94802285e+00,\n",
       "          -1.23216899e+00,  -6.32308479e+00,  -7.97760603e+00,\n",
       "          -7.93667980e+00,  -9.42386879e+00,  -1.91442835e+00,\n",
       "           4.39062525e+00],\n",
       "        [  1.73657224e+00,   2.17160228e+00,   2.58983267e+00,\n",
       "          -7.25587435e-01,  -5.83072992e+00,  -3.25362550e+00,\n",
       "          -3.23020014e+00,  -7.41906241e+00,   1.71898209e+00,\n",
       "           9.16310147e+00],\n",
       "        [  2.21393346e+00,   2.78108417e+00,   3.41709976e+00,\n",
       "          -2.75630965e-02,  -5.09866208e+00,  -5.49015498e-01,\n",
       "          -4.76652804e-01,  -2.96756313e+00,   6.58652246e+00,\n",
       "           1.53573288e+01],\n",
       "        [  2.81942271e+00,   3.55650359e+00,   4.48239466e+00,\n",
       "           3.02807215e+00,   2.48403304e+00,   2.88409294e+00,\n",
       "          -4.54636180e-01,  -4.89488218e+00,   1.26922773e+01,\n",
       "           2.32999552e+01],\n",
       "        [  3.58737839e+00,   4.54273726e+00,   5.79613246e+00,\n",
       "           7.29198715e+00,   6.72234682e+00,   7.24484943e+00,\n",
       "           9.41170425e-01,   1.23703849e+01,   2.11627389e+01,\n",
       "           3.34861381e+01],\n",
       "        [  4.56133071e+00,   5.79826417e+00,   7.40076719e+00,\n",
       "           9.44301852e+00,   1.20117649e+01,   1.28927543e+01,\n",
       "           1.71010431e+01,   2.30175412e+01,   3.37818123e+01,\n",
       "           4.65323510e+01],\n",
       "        [  5.73000009e+00,   7.31963834e+00,   9.39115943e+00,\n",
       "           1.20482511e+01,   1.54559191e+01,   1.98275379e+01,\n",
       "           2.55010694e+01,   3.61611550e+01,   4.65869432e+01,\n",
       "           4.73150315e+01]]),\n",
       " [[[1, 0],\n",
       "   [1, 0],\n",
       "   [1, 0],\n",
       "   [0, -1],\n",
       "   [0, -1],\n",
       "   [0, 1],\n",
       "   [0, 1],\n",
       "   [0, 1],\n",
       "   [0, 1],\n",
       "   [1, 0]],\n",
       "  [[1, 0],\n",
       "   [1, 0],\n",
       "   [1, 0],\n",
       "   [0, -1],\n",
       "   [0, -1],\n",
       "   [-1, 0],\n",
       "   [0, 1],\n",
       "   [0, 1],\n",
       "   [0, 1],\n",
       "   [1, 0]],\n",
       "  [[1, 0],\n",
       "   [1, 0],\n",
       "   [1, 0],\n",
       "   [0, -1],\n",
       "   [0, -1],\n",
       "   [1, 0],\n",
       "   [0, 1],\n",
       "   [0, 1],\n",
       "   [0, 1],\n",
       "   [1, 0]],\n",
       "  [[1, 0],\n",
       "   [1, 0],\n",
       "   [1, 0],\n",
       "   [0, -1],\n",
       "   [0, -1],\n",
       "   [1, 0],\n",
       "   [1, 0],\n",
       "   [-1, 0],\n",
       "   [0, 1],\n",
       "   [1, 0]],\n",
       "  [[1, 0],\n",
       "   [1, 0],\n",
       "   [1, 0],\n",
       "   [0, -1],\n",
       "   [0, -1],\n",
       "   [1, 0],\n",
       "   [1, 0],\n",
       "   [1, 0],\n",
       "   [0, 1],\n",
       "   [1, 0]],\n",
       "  [[1, 0],\n",
       "   [1, 0],\n",
       "   [1, 0],\n",
       "   [0, -1],\n",
       "   [0, -1],\n",
       "   [1, 0],\n",
       "   [1, 0],\n",
       "   [0, -1],\n",
       "   [0, 1],\n",
       "   [1, 0]],\n",
       "  [[1, 0],\n",
       "   [1, 0],\n",
       "   [1, 0],\n",
       "   [1, 0],\n",
       "   [1, 0],\n",
       "   [1, 0],\n",
       "   [0, -1],\n",
       "   [0, -1],\n",
       "   [0, 1],\n",
       "   [1, 0]],\n",
       "  [[1, 0],\n",
       "   [1, 0],\n",
       "   [1, 0],\n",
       "   [1, 0],\n",
       "   [1, 0],\n",
       "   [1, 0],\n",
       "   [0, -1],\n",
       "   [1, 0],\n",
       "   [1, 0],\n",
       "   [1, 0]],\n",
       "  [[0, 1],\n",
       "   [0, 1],\n",
       "   [0, 1],\n",
       "   [1, 0],\n",
       "   [1, 0],\n",
       "   [1, 0],\n",
       "   [1, 0],\n",
       "   [1, 0],\n",
       "   [1, 0],\n",
       "   [1, 0]],\n",
       "  [[0, 1],\n",
       "   [0, 1],\n",
       "   [0, 1],\n",
       "   [0, 1],\n",
       "   [0, 1],\n",
       "   [0, 1],\n",
       "   [0, 1],\n",
       "   [0, 1],\n",
       "   [0, 1],\n",
       "   [0, 1]]])"
      ]
     },
     "execution_count": 46,
     "metadata": {},
     "output_type": "execute_result"
    }
   ],
   "source": [
    "mdp2.valueIter(0.01)"
   ]
  },
  {
   "cell_type": "code",
   "execution_count": 61,
   "metadata": {},
   "outputs": [
    {
     "data": {
      "image/png": "[encoded data removed]",
      "text/plain": [
       "<matplotlib.figure.Figure at 0x10d17be80>"
      ]
     },
     "metadata": {},
     "output_type": "display_data"
    }
   ],
   "source": [
    "mdp2.heatMap()"
   ]
  },
  {
   "cell_type": "code",
   "execution_count": 62,
   "metadata": {},
   "outputs": [
    {
     "data": {
      "image/png": "[encoded data removed]",
      "text/plain": [
       "<matplotlib.figure.Figure at 0x10d27e470>"
      ]
     },
     "metadata": {},
     "output_type": "display_data"
    }
   ],
   "source": [
    "mdp2.heatMap(policy=True)"
   ]
  },
  {
   "cell_type": "code",
   "execution_count": null,
   "metadata": {},
   "outputs": [],
   "source": []
  }
 ],
 "metadata": {
  "kernelspec": {
   "display_name": "Python 3",
   "language": "python",
   "name": "python3"
  },
  "language_info": {
   "codemirror_mode": {
    "name": "ipython",
    "version": 3
   },
   "file_extension": ".py",
   "mimetype": "text/x-python",
   "name": "python",
   "nbconvert_exporter": "python",
   "pygments_lexer": "ipython3",
   "version": "3.6.3"
  }
 },
 "nbformat": 4,
 "nbformat_minor": 2
}
